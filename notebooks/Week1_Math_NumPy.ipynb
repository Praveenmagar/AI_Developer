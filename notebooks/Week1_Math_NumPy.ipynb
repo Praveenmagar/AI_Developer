{
 "cells": [
  {
   "cell_type": "markdown",
   "id": "4bb59bf6",
   "metadata": {},
   "source": [
    "# Week 1 – Math + NumPy"
   ]
  },
  {
   "cell_type": "markdown",
   "id": "61c9f03a",
   "metadata": {},
   "source": [
    "**Goals**  \n",
    "- Understand vectors and matrices  \n",
    "- Practice NumPy ops (dot, norm, matmul)  \n",
    "- Plot a simple 2D vector"
   ]
  },
  {
   "cell_type": "code",
   "execution_count": null,
   "id": "e7f4dc48",
   "metadata": {},
   "outputs": [],
   "source": [
    "# If running in a fresh environment, ensure packages are installed:\n",
    "# %pip install numpy matplotlib\n",
    "\n",
    "import numpy as np\n",
    "import matplotlib.pyplot as plt\n",
    "print(np.__version__)"
   ]
  },
  {
   "cell_type": "markdown",
   "id": "fc533f57",
   "metadata": {},
   "source": [
    "## Vectors"
   ]
  },
  {
   "cell_type": "code",
   "execution_count": null,
   "id": "ef89f63a",
   "metadata": {},
   "outputs": [],
   "source": [
    "v1 = np.array([1, 2, 3])\n",
    "v2 = np.array([4, 5, 6])\n",
    "\n",
    "print(\"Addition:\", v1 + v2)\n",
    "print(\"Dot product:\", np.dot(v1, v2))\n",
    "print(\"Magnitude v1:\", np.linalg.norm(v1))"
   ]
  },
  {
   "cell_type": "markdown",
   "id": "29d70027",
   "metadata": {},
   "source": [
    "## Matrices"
   ]
  },
  {
   "cell_type": "code",
   "execution_count": null,
   "id": "2d07fd1e",
   "metadata": {},
   "outputs": [],
   "source": [
    "A = np.array([[1,2,3],\n",
    "              [4,5,6]])\n",
    "B = np.array([[1,1,1],\n",
    "              [2,2,2],\n",
    "              [3,3,3]])\n",
    "\n",
    "print(\"A shape:\", A.shape, \"B shape:\", B.shape)\n",
    "print(\"A @ B =\\n\", A @ B)  # same as np.dot(A, B)"
   ]
  },
  {
   "cell_type": "markdown",
   "id": "f63c2e2a",
   "metadata": {},
   "source": [
    "## Practice Exercises"
   ]
  },
  {
   "cell_type": "code",
   "execution_count": null,
   "id": "e9251061",
   "metadata": {},
   "outputs": [],
   "source": [
    "# 1) Vector magnitude and normalization\n",
    "v = np.array([2, -1, 3], dtype=float)\n",
    "mag = np.linalg.norm(v)\n",
    "v_norm = v / mag\n",
    "mag, v_norm"
   ]
  },
  {
   "cell_type": "code",
   "execution_count": null,
   "id": "5a89f49f",
   "metadata": {},
   "outputs": [],
   "source": [
    "# 2) Matrix ops and determinant\n",
    "M1 = np.array([[1,2],[3,4]], dtype=float)\n",
    "M2 = np.array([[5,6],[7,8]], dtype=float)\n",
    "\n",
    "add = M1 + M2\n",
    "mul = M1 @ M2\n",
    "det_M1 = np.linalg.det(M1)\n",
    "\n",
    "add, mul, det_M1"
   ]
  },
  {
   "cell_type": "markdown",
   "id": "32369c75",
   "metadata": {},
   "source": [
    "## Plot a 2D Vector"
   ]
  },
  {
   "cell_type": "code",
   "execution_count": null,
   "id": "3fded704",
   "metadata": {},
   "outputs": [],
   "source": [
    "v = np.array([2, 3])\n",
    "origin = [0], [0]\n",
    "\n",
    "plt.figure()\n",
    "plt.quiver(*origin, v[0], v[1], angles='xy', scale_units='xy', scale=1)\n",
    "plt.xlim(-1, 4)\n",
    "plt.ylim(-1, 4)\n",
    "plt.grid(True)\n",
    "plt.title(\"Vector v\")\n",
    "plt.show()"
   ]
  }
 ],
 "metadata": {},
 "nbformat": 4,
 "nbformat_minor": 5
}
